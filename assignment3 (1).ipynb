{
 "cells": [
  {
   "cell_type": "code",
   "execution_count": 26,
   "id": "87ef54fc-3350-4bff-b3a4-158b70d48dec",
   "metadata": {},
   "outputs": [
    {
     "data": {
      "text/plain": [
       "[('Virat Kohli', 24936),\n",
       " ('Jack Kallis', 25534),\n",
       " ('Ricky Ponting', 27483),\n",
       " ('Sachin Tendulkar', 34357)]"
      ]
     },
     "execution_count": 26,
     "metadata": {},
     "output_type": "execute_result"
    }
   ],
   "source": [
    "#Question :1\n",
    " #Sort the given list of tuples based on integer value using lambda function\n",
    "a=[('Sachin Tendulkar',34357),('Ricky Ponting',27483),('Jack Kallis',25534),('Virat Kohli',24936)]\n",
    "sorted(a,key=lambda x: x[1])"
   ]
  },
  {
   "cell_type": "code",
   "execution_count": null,
   "id": "8f589cd0-ca15-4528-b7c5-ab374c182cf1",
   "metadata": {},
   "outputs": [
    {
     "data": {
      "text/plain": [
       "[1, 4, 9, 16, 25, 36, 49, 64, 81, 100]"
      ]
     },
     "execution_count": 2,
     "metadata": {},
     "output_type": "execute_result"
    }
   ],
   "source": [
    "#Question :2\n",
    " #Square of all number in a list of integer using lambda and map function\n",
    "s=[1,2,3,4,5,6,7,8,9,10]\n",
    "list(map(lambda x:x**2,s))"
   ]
  },
  {
   "cell_type": "code",
   "execution_count": 3,
   "id": "13eef257-1bb7-4934-b3c8-65bd71a43a74",
   "metadata": {},
   "outputs": [
    {
     "data": {
      "text/plain": [
       "('1', '2', '3', '4', '5', '6', '7', '8', '9', '10')"
      ]
     },
     "execution_count": 3,
     "metadata": {},
     "output_type": "execute_result"
    }
   ],
   "source": [
    "#Question :3\n",
    " #converting list of integer into tuple of string using map and lambda function\n",
    "b=[1,2,3,4,5,6,7,8,9,10]\n",
    "tuple(map(lambda x:str(x),b))    "
   ]
  },
  {
   "cell_type": "code",
   "execution_count": 6,
   "id": "4474a37a-13ca-446f-95a5-a26c799a4d7e",
   "metadata": {},
   "outputs": [
    {
     "name": "stdout",
     "output_type": "stream",
     "text": [
      "[1, 2, 3, 4, 5, 6, 7, 8, 9, 10, 11, 12, 13, 14, 15, 16, 17, 18, 19, 20, 21, 22, 23, 24, 25]\n"
     ]
    },
    {
     "data": {
      "text/plain": [
       "15511210043330985984000000"
      ]
     },
     "execution_count": 6,
     "metadata": {},
     "output_type": "execute_result"
    }
   ],
   "source": [
    "#Question :4\n",
    " #product of list containing number from 1 to 25 using reduce function\n",
    "l=list(range(1,26,1))\n",
    "print(l)\n",
    "from functools import reduce\n",
    "reduce(lambda x,y:x*y,l)"
   ]
  },
  {
   "cell_type": "code",
   "execution_count": 7,
   "id": "9b71cd35-284a-4d4e-b9b9-79eb9baff347",
   "metadata": {},
   "outputs": [
    {
     "data": {
      "text/plain": [
       "[6, 60, 90, 120]"
      ]
     },
     "execution_count": 7,
     "metadata": {},
     "output_type": "execute_result"
    }
   ],
   "source": [
    "#Question :5\n",
    " #filter a number divisible by 2 and 3 using filter function\n",
    "l=[2,3,6,9,27,60,90,120,55,46]\n",
    "list(filter(lambda x:x%2==0 and x%3==0,l))    "
   ]
  },
  {
   "cell_type": "code",
   "execution_count": 8,
   "id": "86017b00-6ad0-4c0c-8310-b010c2ffded2",
   "metadata": {},
   "outputs": [
    {
     "data": {
      "text/plain": [
       "['php', 'aba', 'radar', 'level']"
      ]
     },
     "execution_count": 8,
     "metadata": {},
     "output_type": "execute_result"
    }
   ],
   "source": [
    "#Question :6\n",
    " #finding palindrome in a given list of a string using lambda and filter function\n",
    "r=['python','php','aba','radar','level']\n",
    "list(filter(lambda x:x[::-1]==x,r))    "
   ]
  },
  {
   "cell_type": "code",
   "execution_count": null,
   "id": "1768fdef-7519-4682-a8b4-1216f9081567",
   "metadata": {},
   "outputs": [],
   "source": []
  }
 ],
 "metadata": {
  "kernelspec": {
   "display_name": "Python 3 (ipykernel)",
   "language": "python",
   "name": "python3"
  },
  "language_info": {
   "codemirror_mode": {
    "name": "ipython",
    "version": 3
   },
   "file_extension": ".py",
   "mimetype": "text/x-python",
   "name": "python",
   "nbconvert_exporter": "python",
   "pygments_lexer": "ipython3",
   "version": "3.10.8"
  }
 },
 "nbformat": 4,
 "nbformat_minor": 5
}
