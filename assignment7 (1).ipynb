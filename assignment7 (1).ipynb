{
 "cells": [
  {
   "cell_type": "code",
   "execution_count": 33,
   "id": "14c07e8e-2094-487b-87e2-4cc8926adeb8",
   "metadata": {},
   "outputs": [
    {
     "name": "stdout",
     "output_type": "stream",
     "text": [
      "[1, 2, 3, 4, 44, 55, 66, 34, 56.78, 89, 34, 1, 2, 3, 56, 1, 34, 55, 67, 78, 89]\n",
      "sum of all integer inside list1 is 774.78\n"
     ]
    }
   ],
   "source": [
    "#Question :1\n",
    " #Return the product of all numbers of the list.\n",
    "list1=[1,2,3,4,[44,55,66,True],False,(34,56.78,89,34),{1,2,3,3,2,1},[56,'machine learning'],'data scientist',{1:34,'key2':[55,67,78,89]}]\n",
    "#def func(list1):\n",
    "l2=[]\n",
    "for i in list1:\n",
    "       if type(i)==int or type(i)==float :\n",
    "            l2.append(i)\n",
    "       elif type(i)==list:\n",
    "            for s in i: \n",
    "                 if type(s)==int or type(s)==float:\n",
    "                    l2.append(s)\n",
    "       elif type(i)==tuple: \n",
    "            for s in i:\n",
    "                if type(s)==int or type(s)==float: \n",
    "                    l2.append(s)\n",
    "       elif type(i)==set:\n",
    "            v=tuple(i)\n",
    "            for s in v:\n",
    "                if type(s)==int or type(s)==float:\n",
    "                     l2.append(s)\n",
    "       elif type(i)==dict:\n",
    "                for s in i.keys():\n",
    "                        if type(s)==int or type(s)==float:\n",
    "                             l2.append(s)\n",
    "                        elif type(s)==list:\n",
    "                            for k in s: \n",
    "                                if type(k)==int or type(k)==float:\n",
    "                                     l2.append(k)\n",
    "                        elif type(s)==tuple: \n",
    "                             for k in s:\n",
    "                                if type(k)==int or type(k)==float: \n",
    "                                     l2.append(k)\n",
    "                        elif type(s)==set:\n",
    "                            v=tuple(s)\n",
    "                            for k in v:\n",
    "                                if type(k)==int or type(k)==float:\n",
    "                                      l2.append(k)            \n",
    "                for s in i.values():\n",
    "                           if type(s)==int or type(s)==float:\n",
    "                               l2.append(s)\n",
    "                           elif type(s)==list:\n",
    "                                for k in s: \n",
    "                                    if type(k)==int or type(k)==float:\n",
    "                                        l2.append(k)\n",
    "                           elif type(s)==tuple: \n",
    "                                 for k in s:\n",
    "                                    if type(k)==int or type(k)==float: \n",
    "                                        l2.append(k)\n",
    "                           elif type(s)==set:\n",
    "                                 v=tuple(s)\n",
    "                                 for k in v:\n",
    "                                    if type(k)==int or type(k)==float:\n",
    "                                         l2.append(k)            \n",
    "                        \n",
    "print(l2)\n",
    "sum=0\n",
    "for i in l2:\n",
    "    sum+=i\n",
    "print(\"sum of all integer inside list1 is\", sum)    \n",
    "    "
   ]
  },
  {
   "cell_type": "code",
   "execution_count": 34,
   "id": "c008f114-5203-4da5-9166-90676bd9025f",
   "metadata": {},
   "outputs": [
    {
     "name": "stdin",
     "output_type": "stream",
     "text": [
      "Enter a string: I want to become a Data Scientist\n"
     ]
    },
    {
     "name": "stdout",
     "output_type": "stream",
     "text": [
      "r$dzmg$gl$yvxlnv$z$wzgz$hxrvmgrhg"
     ]
    }
   ],
   "source": [
    "#Question :2\n",
    " #Encrypting message such that 'a' replace with 'z' ,'b' replace with 'y' and so on and whitespace(' ') with dollar sign.\n",
    "str=input(\"Enter a string:\")\n",
    "lowcase=str.lower()\n",
    "for j in lowcase:\n",
    "    i=ord(j)\n",
    "    if i>=97 and i<=122:\n",
    "        l=122-i+97\n",
    "        k=chr(l)\n",
    "        print(k, end='')\n",
    "    else :\n",
    "        print('$',end='')\n",
    "    "
   ]
  },
  {
   "cell_type": "code",
   "execution_count": null,
   "id": "76c1dc02-384a-44f8-8e0e-f27c2191672e",
   "metadata": {},
   "outputs": [],
   "source": []
  }
 ],
 "metadata": {
  "kernelspec": {
   "display_name": "Python 3 (ipykernel)",
   "language": "python",
   "name": "python3"
  },
  "language_info": {
   "codemirror_mode": {
    "name": "ipython",
    "version": 3
   },
   "file_extension": ".py",
   "mimetype": "text/x-python",
   "name": "python",
   "nbconvert_exporter": "python",
   "pygments_lexer": "ipython3",
   "version": "3.10.8"
  }
 },
 "nbformat": 4,
 "nbformat_minor": 5
}
