{
 "cells": [
  {
   "cell_type": "code",
   "execution_count": 2,
   "id": "7bebda38-2554-4495-b9c8-b14a93d197ee",
   "metadata": {},
   "outputs": [],
   "source": [
    "#Question :1\n",
    " #Developer of Python language:-\n",
    " #Guido van Rossum"
   ]
  },
  {
   "cell_type": "code",
   "execution_count": 3,
   "id": "b75b80f8-34d9-4d80-8db0-b4ac7ec23d09",
   "metadata": {},
   "outputs": [],
   "source": [
    "#Question :2\n",
    " #Type of programming python support:-\n",
    " #Object-oriented programming (OOP),Functional programming,Procedural programming,Imperative programming,Parallel programming"
   ]
  },
  {
   "cell_type": "code",
   "execution_count": 4,
   "id": "90441743-415b-46df-b755-359f43c35e31",
   "metadata": {},
   "outputs": [],
   "source": [
    "#Question :3\n",
    " #Is python case sensitive when dealing with identifiers ?\n",
    " #Yes "
   ]
  },
  {
   "cell_type": "code",
   "execution_count": 1,
   "id": "d297cebf-53cc-4225-8f6d-11dfa2568af5",
   "metadata": {},
   "outputs": [],
   "source": [
    "#Question :4\n",
    " #Correct extension of Python file:-\n",
    " #  .py"
   ]
  },
  {
   "cell_type": "code",
   "execution_count": 6,
   "id": "59849b4c-c564-4d7e-af5c-c6969763055e",
   "metadata": {},
   "outputs": [],
   "source": [
    "#Question :5\n",
    " # Is Python Code compiled or interpreted ?\n",
    " # Python is an interpreted language, which means that the source code is executed directly by the interpreter, without being \n",
    " # compiled into machine code first.When a Python program is run, the interpreter reads the source code and executes it line by \n",
    " # line, interpreting each statement and executing it immediately"
   ]
  },
  {
   "cell_type": "code",
   "execution_count": 1,
   "id": "3aae3c71-5b00-461d-b76d-81a08cae21cd",
   "metadata": {},
   "outputs": [],
   "source": [
    "#Question :6\n",
    " #Few blocks of code used to define in Python language:-\n",
    " #Conditional block\n",
    " #Loop block\n",
    " #Function definition block"
   ]
  },
  {
   "cell_type": "code",
   "execution_count": 2,
   "id": "38574140-d612-4002-ba1b-bdec615a6ce5",
   "metadata": {},
   "outputs": [],
   "source": [
    "#Question :7\n",
    " #Character used to give single line comment in python:-\n",
    " # hssh symbol(#)"
   ]
  },
  {
   "cell_type": "code",
   "execution_count": 1,
   "id": "2a6693b5-6af0-480e-b93f-63b6b4694104",
   "metadata": {},
   "outputs": [
    {
     "name": "stdout",
     "output_type": "stream",
     "text": [
      "Python version\n",
      "3.10.8 | packaged by conda-forge | (main, Nov 22 2022, 08:26:04) [GCC 10.4.0]\n"
     ]
    }
   ],
   "source": [
    "#Question ;8\n",
    " #Function which help us to find the version of python that we are currently working on :-\n",
    "import sys\n",
    "print(\"Python version\")\n",
    "print(sys.version)\n"
   ]
  },
  {
   "cell_type": "code",
   "execution_count": 2,
   "id": "2bf0efcc-8a77-4204-8e2a-3a73ce5dc793",
   "metadata": {},
   "outputs": [],
   "source": [
    "#Question :9\n",
    " #Python support the creation of anonymous function at runtime,using a construct called ___________\n",
    " # lambda"
   ]
  },
  {
   "cell_type": "code",
   "execution_count": 5,
   "id": "7e8fefd7-71b7-4090-88d1-accadda78cc5",
   "metadata": {},
   "outputs": [],
   "source": [
    "#Question :10\n",
    " #pip stands for :-\n",
    " #Pip Installs Packages"
   ]
  },
  {
   "cell_type": "code",
   "execution_count": 6,
   "id": "7049abc0-7947-4f7b-8bad-a7a734b437dc",
   "metadata": {},
   "outputs": [],
   "source": [
    "#Question :11\n",
    " #Few built in function in python:-\n",
    " #print() - used to output text to the console\n",
    " #len() - used to determine the length of a sequence, such as a string or list\n",
    " #type() - used to determine the data type of a value or variable\n",
    " #int() - used to convert a value to an integer\n",
    " #float() - used to convert a value to a floating-point number\n",
    " #str() - used to convert a value to a string\n",
    " #list() - used to convert a value to a list\n",
    " #tuple() - used to convert a value to a tuple\n",
    " #dict() - used to create a dictionary\n",
    " #range() - used to generate a range of values"
   ]
  },
  {
   "cell_type": "code",
   "execution_count": 1,
   "id": "85d1a016-82ea-4665-8381-7c8c35de0792",
   "metadata": {},
   "outputs": [],
   "source": [
    "#Question :12\n",
    " #Maximumm possible length of an identifier in python:-\n",
    " #Their is no fixed limit."
   ]
  },
  {
   "cell_type": "code",
   "execution_count": 8,
   "id": "a4150c04-42c6-431e-9a05-5d73d4633406",
   "metadata": {},
   "outputs": [],
   "source": [
    "#Question :13\n",
    " #Benefits of using python:-\n",
    " #1) Simple and easy to learn\n",
    " #2) Many Extensive libraries\n",
    " #3) More productive and write code faster than in other languages"
   ]
  },
  {
   "cell_type": "code",
   "execution_count": 1,
   "id": "dc2d6ebd-152d-492d-ad25-88139844f565",
   "metadata": {},
   "outputs": [],
   "source": [
    "#Question :14\n",
    " #Memory managed in python:-\n",
    " #Memory management in Python is handled automatically by the Python interpreter using a technique called garbage collection.\n",
    " #Python's memory management system is designed to be efficient and automatic, so developers don't need to worry about explicitly \n",
    " #allocating or deallocating memory"
   ]
  },
  {
   "cell_type": "code",
   "execution_count": 2,
   "id": "56a6c929-3c4a-4643-9847-013d4f81fbc7",
   "metadata": {},
   "outputs": [],
   "source": [
    "#Question :15\n",
    " #Installing Python on window and set path variable:-\n",
    " #1) Download the latest version of Python from the official website at https://www.python.org/downloads/windows/ or from any site.\n",
    " #2) Run the installer file and follow the prompts to install Python on your system. Make sure to select option to add Python to your\n",
    " #   system path during the installation process.\n",
    " #3) Once the installation is complete, open the Windows Start menu and search for \"Environment Variables\". Click on \"Edit the system \n",
    " #   environment variables\" to open the System Properties dialog box.\n",
    " #4) In the System Properties dialog box, click on the \"Environment Variables\" button.\n",
    " #5) In the Environment Variables dialog box, scroll down to the \"System Variables\" section and find the \"Path\" variable. Click on the\n",
    " #   \"Edit\" button to edit the variable.\n",
    " #6) In the Edit Environment Variable dialog box, click on the \"New\" button and enter the path to your Python installation directory \n",
    " #   (for example, \"C:\\Python39\").\n",
    " #7) Click \"OK\" to close all the dialog boxes and save the changes."
   ]
  },
  {
   "cell_type": "code",
   "execution_count": 2,
   "id": "f5e70677-9da3-454f-bf92-703a72e519d5",
   "metadata": {},
   "outputs": [],
   "source": [
    "#Question :16\n",
    " #Is indentation required in python ?\n",
    " #Yes"
   ]
  },
  {
   "cell_type": "code",
   "execution_count": null,
   "id": "2f1738ec-4438-41e0-832a-c51e4e0a887f",
   "metadata": {},
   "outputs": [],
   "source": []
  }
 ],
 "metadata": {
  "kernelspec": {
   "display_name": "Python 3 (ipykernel)",
   "language": "python",
   "name": "python3"
  },
  "language_info": {
   "codemirror_mode": {
    "name": "ipython",
    "version": 3
   },
   "file_extension": ".py",
   "mimetype": "text/x-python",
   "name": "python",
   "nbconvert_exporter": "python",
   "pygments_lexer": "ipython3",
   "version": "3.10.8"
  }
 },
 "nbformat": 4,
 "nbformat_minor": 5
}
