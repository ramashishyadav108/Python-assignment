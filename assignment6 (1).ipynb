{
 "cells": [
  {
   "cell_type": "code",
   "execution_count": 7,
   "id": "a1d4e222-93ca-4a68-97cc-0d3bdfb296ae",
   "metadata": {},
   "outputs": [
    {
     "name": "stdin",
     "output_type": "stream",
     "text": [
      "Enter the percentage: 45\n"
     ]
    },
    {
     "name": "stdout",
     "output_type": "stream",
     "text": [
      "D\n"
     ]
    }
   ],
   "source": [
    "#Question :1\n",
    " #Grade according to criteria\n",
    "marks=int(input(\"Enter the percentage:\"))\n",
    "if marks>90:\n",
    "          print(\"A\")\n",
    "elif marks>80 and marks<=90:\n",
    "          print(\"B\")\n",
    "elif marks>60 and marks<=80:\n",
    "          print(\"C\")\n",
    "elif marks<60:\n",
    "          print(\"D\")"
   ]
  },
  {
   "cell_type": "code",
   "execution_count": 16,
   "id": "830fd577-9936-4deb-a7b3-e5bef02df8a8",
   "metadata": {},
   "outputs": [
    {
     "name": "stdin",
     "output_type": "stream",
     "text": [
      "Enter the price of bike: 85000\n"
     ]
    },
    {
     "name": "stdout",
     "output_type": "stream",
     "text": [
      "8500.0\n"
     ]
    }
   ],
   "source": [
    "#Question :2\n",
    "price=int(input(\"Enter the price of bike:\"))\n",
    "if price>100000:\n",
    "    road_tax=price*15/100\n",
    "elif price>50000 and price<=100000:\n",
    "    road_tax=price*10/100\n",
    "elif price<=50000:\n",
    "    road_tax=price*5/100\n",
    "print(road_tax)"
   ]
  },
  {
   "cell_type": "code",
   "execution_count": 17,
   "id": "91ff81c4-f5a4-40ac-9fda-374cf108625f",
   "metadata": {},
   "outputs": [
    {
     "name": "stdin",
     "output_type": "stream",
     "text": [
      "Enter the city name: Delhi\n"
     ]
    },
    {
     "name": "stdout",
     "output_type": "stream",
     "text": [
      "Red Fort\n"
     ]
    }
   ],
   "source": [
    "#Question :3\n",
    "#Monument at that city:-\n",
    "a=input(\"Enter the city name:\")\n",
    "if a=='Delhi':\n",
    "    print(\"Red Fort\")\n",
    "elif a=='Agra':\n",
    "    print(\"Taj Mahal\")\n",
    "elif a=='Jaipur':\n",
    "    print(\"Jal Mahal\") \n",
    "else :\n",
    "    print(\"Enter valid city\")           "
   ]
  },
  {
   "cell_type": "code",
   "execution_count": 5,
   "id": "f8c765a5-98d3-4804-b5ab-ec3a58eac04e",
   "metadata": {},
   "outputs": [
    {
     "name": "stdin",
     "output_type": "stream",
     "text": [
      "Enter a number: 63\n"
     ]
    },
    {
     "name": "stdout",
     "output_type": "stream",
     "text": [
      "63 is divided by 3 for 2 times before it is less than or equal to 10\n"
     ]
    }
   ],
   "source": [
    "#Question :4\n",
    "n=int(input(\"Enter a number:\"))\n",
    "r=n\n",
    "j=0\n",
    "if n>10 :\n",
    "      while n>10:\n",
    "            if n%3==0:\n",
    "                  j=j+1\n",
    "                  n=n/3\n",
    "            else :\n",
    "                  j \n",
    "                  break\n",
    "      print(f\"{r} is divided by 3 for\", j ,\"times before it is less than or equal to 10\")\n",
    "\n",
    "else :\n",
    "      print(\"Enter number greater than 10\")\n"
   ]
  },
  {
   "cell_type": "code",
   "execution_count": 6,
   "id": "b3eeee5c-5236-453a-ab26-f0b6ec6984c1",
   "metadata": {},
   "outputs": [],
   "source": [
    "#Question :5\n",
    " #A while loop is used in Python when you want to execute a block of code repeatedly until a certain condition is met. The loop \n",
    " # will continue to execute as long as the condition remains True.\n",
    " #The condition can be any expression that returns a boolean value (True or False). The code inside the loop will continue to execute \n",
    " # as long as the condition remains True.\n"
   ]
  },
  {
   "cell_type": "code",
   "execution_count": 2,
   "id": "147daac5-be25-41eb-96dd-4f314977c2ea",
   "metadata": {},
   "outputs": [
    {
     "name": "stdin",
     "output_type": "stream",
     "text": [
      "Enter a number: 4\n"
     ]
    },
    {
     "name": "stdout",
     "output_type": "stream",
     "text": [
      "1 \n",
      "\n",
      "1 2 \n",
      "\n",
      "1 2 3 \n",
      "\n",
      "1 2 3 4 \n",
      "\n"
     ]
    },
    {
     "name": "stdin",
     "output_type": "stream",
     "text": [
      "Enter a number: 5\n"
     ]
    },
    {
     "name": "stdout",
     "output_type": "stream",
     "text": [
      "1 \n",
      "\n",
      "2 3 \n",
      "\n",
      "4 5 6 \n",
      "\n",
      "7 8 9 10 \n",
      "\n",
      "11 12 13 14 15 \n",
      "\n"
     ]
    },
    {
     "name": "stdin",
     "output_type": "stream",
     "text": [
      "Enter a number: 6\n"
     ]
    },
    {
     "name": "stdout",
     "output_type": "stream",
     "text": [
      "          1 \n",
      "\n",
      "        1 2 \n",
      "\n",
      "      1 2 3 \n",
      "\n",
      "    1 2 3 4 \n",
      "\n",
      "  1 2 3 4 5 \n",
      "\n",
      "1 2 3 4 5 6 \n",
      "\n"
     ]
    }
   ],
   "source": [
    "#Question :6\n",
    " #print 3 different pattern using nested while loop:-\n",
    "#1 12 123 1234\n",
    "n=int(input(\"Enter a number:\"))\n",
    "i=1\n",
    "while i<=n:\n",
    "    j=1\n",
    "    while j<=i:\n",
    "        print(j, end=' ')\n",
    "        j+=1\n",
    "    print(\"\\n\")\n",
    "    i+=1\n",
    "#1 23 456 789\n",
    "n=int(input(\"Enter a number:\"))\n",
    "i,k=1,1\n",
    "while i<=n:\n",
    "    j=1\n",
    "    while j<=i:\n",
    "        print(k, end=' ')\n",
    "        k+=1\n",
    "        j+=1  \n",
    "    print(\"\\n\")\n",
    "    i+=1\n",
    "#---1 --12 -123 1234\n",
    "n=int(input(\"Enter a number:\"))\n",
    "i=1\n",
    "while i<=n:\n",
    "    j=1\n",
    "    while j<=n-i:\n",
    "        print(' ', end=' ')\n",
    "        j+=1\n",
    "    r=1\n",
    "    while r<=i:\n",
    "        print(r, end=' ')\n",
    "        r+=1\n",
    "    print(\"\\n\")\n",
    "    i+=1\n",
    "    \n",
    " "
   ]
  },
  {
   "cell_type": "code",
   "execution_count": 3,
   "id": "63553a78-03ff-461a-8601-5314ff2dc906",
   "metadata": {},
   "outputs": [
    {
     "name": "stdout",
     "output_type": "stream",
     "text": [
      "10\n",
      "9\n",
      "8\n",
      "7\n",
      "6\n",
      "5\n",
      "4\n",
      "3\n",
      "2\n",
      "1\n"
     ]
    }
   ],
   "source": [
    "#Question :7\n",
    " #Reverse a while loop to display number from 10 to 1:-\n",
    "i=10\n",
    "while i>=1:\n",
    "    print(i)\n",
    "    i-=1"
   ]
  },
  {
   "cell_type": "code",
   "execution_count": 4,
   "id": "940dfaf7-7376-4bbf-8844-d0435ae2f3a5",
   "metadata": {},
   "outputs": [
    {
     "name": "stdout",
     "output_type": "stream",
     "text": [
      "10\n",
      "9\n",
      "8\n",
      "7\n",
      "6\n",
      "5\n",
      "4\n",
      "3\n",
      "2\n",
      "1\n"
     ]
    }
   ],
   "source": [
    "#Question :8\n",
    " #Reverse a while loop to display number from 10 to 1:-\n",
    "i=10\n",
    "while i>=1:\n",
    "    print(i)\n",
    "    i-=1"
   ]
  },
  {
   "cell_type": "code",
   "execution_count": null,
   "id": "5f3995a7-8c62-4c04-9211-dd85052d440e",
   "metadata": {},
   "outputs": [],
   "source": []
  }
 ],
 "metadata": {
  "kernelspec": {
   "display_name": "Python 3 (ipykernel)",
   "language": "python",
   "name": "python3"
  },
  "language_info": {
   "codemirror_mode": {
    "name": "ipython",
    "version": 3
   },
   "file_extension": ".py",
   "mimetype": "text/x-python",
   "name": "python",
   "nbconvert_exporter": "python",
   "pygments_lexer": "ipython3",
   "version": "3.10.8"
  }
 },
 "nbformat": 4,
 "nbformat_minor": 5
}
