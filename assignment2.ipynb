{
 "cells": [
  {
   "cell_type": "code",
   "execution_count": 30,
   "id": "8409d3e6-3ae3-41c8-bf54-8168b65d656f",
   "metadata": {},
   "outputs": [
    {
     "data": {
      "text/plain": [
       "[1, 3, 5, 7, 9, 11, 13, 15, 17, 19, 21, 23, 25]"
      ]
     },
     "execution_count": 30,
     "metadata": {},
     "output_type": "execute_result"
    }
   ],
   "source": [
    "#Question :1\n",
    " #def keyword is used to create a function.\n",
    " #function to return a list of odd number in the range of 1 to 25\n",
    "def oddf(a,b):\n",
    "    l=[]\n",
    "    for i in range(a,b+1,1):\n",
    "        if i%2!=0:\n",
    "            l.append(i)\n",
    "    return l \n",
    "oddf(1,25)"
   ]
  },
  {
   "cell_type": "code",
   "execution_count": 15,
   "id": "c56ee0e4-7d2c-4541-8980-9d1a178f47c0",
   "metadata": {},
   "outputs": [
    {
     "name": "stdout",
     "output_type": "stream",
     "text": [
      "(1, 2, 3, 4, 5)\n",
      "{'college': 'IIIT', 'year': 1, 'branch': 'CSE', 'year_of_passout': 2026}\n"
     ]
    }
   ],
   "source": [
    "#Question :2\n",
    " #Uses of *args and **args\n",
    " #*args is used when we don't know the number of argument pass in the created function.**kwargs is also used when we don't\n",
    " #know the number of argument and we use it when their is dictionary operation.\n",
    "    #Example of *args\n",
    "def t(*args):\n",
    "    return args\n",
    "print(t(1,2,3,4,5))\n",
    "    #Example of **kwargs\n",
    "def t1(**kwargs):\n",
    "    return kwargs\n",
    "print(t1(college='IIIT' ,year=1 ,branch='CSE' ,year_of_passout=2026))"
   ]
  },
  {
   "cell_type": "code",
   "execution_count": 34,
   "id": "56b53d1d-6e30-4dbf-99c7-b8af2f1b3dbc",
   "metadata": {},
   "outputs": [
    {
     "name": "stdout",
     "output_type": "stream",
     "text": [
      "2\n",
      "4\n",
      "6\n",
      "8\n",
      "10\n",
      "2\n",
      "4\n",
      "6\n",
      "8\n",
      "10\n"
     ]
    }
   ],
   "source": [
    "#Question :3\n",
    " #iterator\n",
    " #Iterator is object that helps us in iterating over another object(iterable).Iterable can be converted into iterator by iter().Value of iterator\n",
    " #is not get stored stored in memory at once.It stored one by one.\n",
    "  ##method used to iitialise itertor object and method used for iteration:-  \n",
    "   #To initialize an iterator object  we can use the iter() function.the iterable is used as an argument in iter().\n",
    "   #To iterate over the elements of an iterato rwe can use the next() function.the next() function returns the next element from the iterator.\n",
    "l=[2,4,6,8,10,12,14,16,18,20]\n",
    "l1=iter(l)\n",
    "print(next(l1))\n",
    "print(next(l1))\n",
    "print(next(l1))\n",
    "print(next(l1))\n",
    "print(next(l1))\n",
    "#By using for loop:-\n",
    "l2=iter(l)\n",
    "for i in range(5):\n",
    "    print(next(l2))"
   ]
  },
  {
   "cell_type": "code",
   "execution_count": 41,
   "id": "6df0ba3e-4bdb-4456-8ede-97056ec1fb64",
   "metadata": {},
   "outputs": [
    {
     "name": "stdout",
     "output_type": "stream",
     "text": [
      "2\n",
      "4\n",
      "8\n",
      "16\n",
      "32\n",
      "64\n",
      "128\n",
      "256\n",
      "512\n",
      "1024\n"
     ]
    }
   ],
   "source": [
    "#Question :4\n",
    " #generator function can be paused and resumed at any time during its execution. When a generator function is called, it returns\n",
    " #an iterator object that can be used to iterate over the sequence of values it produces.\n",
    " #The yield keyword is used in a generator function to produce a value and suspend the execution of the function.\n",
    " #When the generator function is resumed, it continues from where it left off and produces the next value in the sequence.\n",
    "  ##example:- printing the 2 to the power 1 to 10.\n",
    "def g1(n):\n",
    "    a=2\n",
    "    for j in range(1,n+1,1):\n",
    "        yield a**j\n",
    "for i in g1(10):\n",
    "    print(i)    "
   ]
  },
  {
   "cell_type": "code",
   "execution_count": 66,
   "id": "701f84a0-f7a2-4d02-8cb6-c7039e9452c0",
   "metadata": {},
   "outputs": [
    {
     "name": "stdout",
     "output_type": "stream",
     "text": [
      "2\n",
      "3\n",
      "5\n",
      "7\n",
      "11\n",
      "13\n",
      "17\n",
      "19\n",
      "23\n",
      "29\n",
      "31\n",
      "37\n",
      "41\n",
      "43\n",
      "47\n",
      "53\n",
      "59\n",
      "61\n",
      "67\n",
      "71\n"
     ]
    }
   ],
   "source": [
    "#Question :-5\n",
    " #prime number than 1000.\n",
    "def g2():\n",
    "    i=2\n",
    "    while i<=1000:\n",
    "        j,k=2,0\n",
    "        while j<i:\n",
    "            if i%j==0:\n",
    "                k+=1\n",
    "            j+=1    \n",
    "        if k==0:\n",
    "            yield i\n",
    "        i+=1\n",
    "for r in g2():\n",
    "    r\n",
    "#for first 20 prime number:-\n",
    "g3=iter(g2())\n",
    "for s in range(20):\n",
    "    print(next(g3))"
   ]
  },
  {
   "cell_type": "code",
   "execution_count": 70,
   "id": "0704e8e8-ad85-4bc2-885a-4affc720b67f",
   "metadata": {},
   "outputs": [
    {
     "name": "stdout",
     "output_type": "stream",
     "text": [
      "0\n",
      "1\n",
      "1\n",
      "2\n",
      "3\n",
      "5\n",
      "8\n",
      "13\n",
      "21\n",
      "34\n"
     ]
    }
   ],
   "source": [
    "#Question :6\n",
    " #fibonacci by while loop:-\n",
    "a,b=0,1\n",
    "i=3\n",
    "print(a)\n",
    "print(b)\n",
    "while i<=10:\n",
    "    s=a+b\n",
    "    a=b\n",
    "    b=s\n",
    "    print(s)\n",
    "    i+=1"
   ]
  },
  {
   "cell_type": "code",
   "execution_count": 1,
   "id": "ea7c924e-ecc0-4c57-b0b2-d18fc412230b",
   "metadata": {},
   "outputs": [
    {
     "data": {
      "text/plain": [
       "['p', 'w', 's', 'k', 'i', 'l', 'l', 's']"
      ]
     },
     "execution_count": 1,
     "metadata": {},
     "output_type": "execute_result"
    }
   ],
   "source": [
    "#Question :7\n",
    " #'pwskills'\n",
    "s='pwskills'\n",
    "[i for i in s]"
   ]
  },
  {
   "cell_type": "code",
   "execution_count": 20,
   "id": "840a15f0-e9c2-46a2-8ac3-deb117f4e66e",
   "metadata": {},
   "outputs": [
    {
     "name": "stdin",
     "output_type": "stream",
     "text": [
      "Enter a number you want to check: 121\n"
     ]
    },
    {
     "name": "stdout",
     "output_type": "stream",
     "text": [
      "Reverse of 121 is 121\n",
      "121 is palindrome number\n"
     ]
    }
   ],
   "source": [
    "#Question :8\n",
    " #checking palindrome or not by while loop\n",
    " #When reverse of a number is equal to the real number ,then it is known as palindrome number.\n",
    "n=int(input(\"Enter a number you want to check:\"))\n",
    "a=n\n",
    "s=0\n",
    "while n>0:\n",
    "    r=n%10\n",
    "    s=s*10+ r\n",
    "    n=int(n/10)  \n",
    "print(f\"Reverse of {a} is {s}\")\n",
    "if s==a:\n",
    "    print(f\"{s} is palindrome number\")\n",
    "else :\n",
    "    print(f\"{s} is not palindrome number\")"
   ]
  },
  {
   "cell_type": "code",
   "execution_count": 10,
   "id": "e121ee19-8aaa-4a2f-9495-88d02b6b9f06",
   "metadata": {},
   "outputs": [
    {
     "name": "stdout",
     "output_type": "stream",
     "text": [
      "[1, 2, 3, 4, 5, 6, 7, 8, 9, 10, 11, 12, 13, 14, 15, 16, 17, 18, 19, 20, 21, 22, 23, 24, 25, 26, 27, 28, 29, 30, 31, 32, 33, 34, 35, 36, 37, 38, 39, 40, 41, 42, 43, 44, 45, 46, 47, 48, 49, 50, 51, 52, 53, 54, 55, 56, 57, 58, 59, 60, 61, 62, 63, 64, 65, 66, 67, 68, 69, 70, 71, 72, 73, 74, 75, 76, 77, 78, 79, 80, 81, 82, 83, 84, 85, 86, 87, 88, 89, 90, 91, 92, 93, 94, 95, 96, 97, 98, 99, 100]\n",
      "[1, 3, 5, 7, 9, 11, 13, 15, 17, 19, 21, 23, 25, 27, 29, 31, 33, 35, 37, 39, 41, 43, 45, 47, 49, 51, 53, 55, 57, 59, 61, 63, 65, 67, 69, 71, 73, 75, 77, 79, 81, 83, 85, 87, 89, 91, 93, 95, 97, 99]\n"
     ]
    }
   ],
   "source": [
    "#Question :-9\n",
    " #odd number from 1 to 100\n",
    "a=[i for i in range(1,101,1)]\n",
    "b=[i for i in range(1,101,1) if i%2!=0]\n",
    "print(a)\n",
    "print(b)"
   ]
  },
  {
   "cell_type": "code",
   "execution_count": null,
   "id": "3d9fc085-4789-4691-b1c5-5437a8c4363e",
   "metadata": {},
   "outputs": [],
   "source": []
  }
 ],
 "metadata": {
  "kernelspec": {
   "display_name": "Python 3 (ipykernel)",
   "language": "python",
   "name": "python3"
  },
  "language_info": {
   "codemirror_mode": {
    "name": "ipython",
    "version": 3
   },
   "file_extension": ".py",
   "mimetype": "text/x-python",
   "name": "python",
   "nbconvert_exporter": "python",
   "pygments_lexer": "ipython3",
   "version": "3.10.8"
  }
 },
 "nbformat": 4,
 "nbformat_minor": 5
}
